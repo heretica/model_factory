(Aucun objet)
CORNILLE Pauline
​
ANGE NIRINA Michaela-rolland
​
import pandas as pd
import matplotlib.pyplot as plt
import statsmodels.api as sm


# %%
df = pd.read_csv('/workspaces/model_factory/groupe2/test.csv', index_col=0)
df

# %%
plt.figure(figsize=(12,5))
plt.title('Consommation d\'énergie renouvelable en France entre 1965 et 2021')
plt.plot(df['All_renew'], label='Consommation en TWh')
plt.legend(loc='best')
plt.show()

# %%
df['Year'] = [i for i in range(1, len(df)+1)]

# %%
model = sm.OLS.from_formula('All_renew ~ GDP_per_cap', data=df)
results = model.fit()

# %% [markdown]
# Tentons maintenant de comprendre le résultat de notre modèle.
#
# Les informations importantes sont:
#
# - Le **R_squared**: Le $R^2$ représente le pourcentage de variation expliqué par le modèle. En termes simples, un $R^2 = 0$ correspond à un modèle qui n'explique rien. Dans ce cas là, notre variable Year ne prédirerait strictement rien de notre consommation d'ER. Au contraire, un $R^2 = 1$ expliquerait tout. La totalité de la consommation d'ER se résumerait à une fonction linéaire du temps.
# - Les valeurs de la colonne **coef**: Ici sont les valeurs qui nous intéresse au départ! La première (intercept) correspond à $\alpha$. Cette valeur est le point de départ de notre courbe. Pour l'année 1965, la consommation d'ER était donc de 47 Twh. La deuxième valeur (Year, correspond au $\beta$. La valeur étant de 0.8, cela implique que chaque année, la consommation d'ER augmente de 0.8 Twh.
# - Les valeurs de la colonne **P>|t|**: Ces valeurs nous indiquent de la significativité de nos coefficients. Simplement, pouvons nous croire que la valeur de notre coefficients $\alpha$ et $\beta$ sont rééllement différent de 0. Une p-value valeur suffisament basse indique la significativité de notre coefficient.

# %%
results.summary()

# %% [markdown]
# Dans notre cas, nous avons un modèle avec un beau $R^2$ de $0.563$ et des coefficients significatifs. Le $\beta$ est positif et donc indique la présence d'une tendance linéaire à la hausse.
#
# Tentons maintenant de visualiser note modèle et de le comparer à la réalité.
#
# La fonction predict.() permet de calculer les valeurs que notre modèle aurait donné à l'intérieur de notre échantillon.

# %%
df['Prediction_1'] = results.predict()

# %%
plt.figure(figsize=(12,5))
plt.title('Prédiction de la consommation d\'énergie renouvelable en France entre 1965 et 2021')
plt.plot(df['All_renew'], label='Consommation en TWh')
plt.plot(df['Prediction_1'], label='Prediction linéaire')
plt.legend(loc='best')
plt.show()

# %% [markdown]
# La tendance a l'air claire mais notre modèle rate de nombreuses variations dans la consommation d'ER. D'où viennent ces variations?
#
# Ce que notre humble modèle montre c'est que la consommation d'ER à l'air d'augmenter avec le temps. Mais il ne nous donne aucune raison quant à pourquoi cette augmentation s'opère.
#
# Avant de se tourner vers ces questions, pouvont-nous améliorer notre modèle dans l'estimation d'une tendance?
#
# Certainement! Notre modèle faisait l'hypothèse d'une relation linéaire entre le temps et la consommation tel que celui ci-dessous:
#
# ![image.png](attachment:82aa7a90-fe2b-445b-a724-9ac02748b487.png)
#
# Tentons de mettre à l'épreuve cette hypothèse avec un modèle alternatif:
#
# ![image.png](attachment:ec70b558-aa50-473b-aa7b-0e9e88a6a4df.png)
#

# %% [markdown]
# # Un modèle alternatif: La consommation d'énergie renouvelable suit une tendance quadratique en France
#
# Un modèle quadratique n'est pas bien plus compliqué d'un cours de mathématiques en terminale. Nous remplaçons simplement notre variable **Temps** par une variable **Temps^2**.
#
# Formellement:
# $$ All\_renew = \alpha + \beta * Temps^2  + \varepsilon $$
#
# Il s'agit donc de répéter le processus précédent en substituant **Temps** par **Temps^2**.

# %%
df['Year_2'] = [i**2 for i in range(1,len(df)+1)]


# %%
model_2 = sm.OLS.from_formula('All_renew ~ Year_2', data=df)
results_2 = model_2.fit()

# %% [markdown]
# Arretons-nous maintenant sur les résultats de notre nouveau modèle.
#
# 1. Nous pouvons voir une augmentation du $R^2$ à $62.9\%$. C'est une augmentation non-triviale. Ceci indique que notre modèle correspond, d'une certaine manière, mieux à nos données.
# 2. La valeur des coefficients change nécessairement mais notre $\beta$ est toujours positif (ce qui indique une tendance de la consommation d'ER d'augmenter de plus en plus rapidement).
# 3. Nos coefficients sont toujours fortement significatifs.

# %%
results_2.summary()

# %% [markdown]
# **Comparons maintenant nos deux modèles de manière visuelle**

# %%
df['Prediction_2'] = results_2.predict()

plt.figure(figsize=(12,5))
plt.title('Prédiction de la consommation d\'énergie renouvelable en France entre 1965 et 2021')
plt.plot(df['All_renew'], label='Consommation en TWh')
plt.plot(df['Prediction_1'], label='Prediction linéaire #1')
plt.plot(df['Prediction_2'], label='Prediction linéaire #2')
plt.legend(loc='best')
plt.show()

# %% [markdown]
# Notre modèle quadratique à l'air effectivement de nettement mieux représenter la tendance de consommation d'ER. Notre modèle nous permet donc de dire que la consommation d'ER à l'air de s'accélérer depuis les années 1970s.
#
# Il faut néanmoins rester vigilant dans notre interprétation.
#
# 1. Nous sommes encores dans l'espace modèle. Nous avons une prédiction mais notre modèle ne nous apporte aucune explication quant aux raisons de cette tendance. A quoi est dû ce comportement dans la consommation d'ER?
#
# 2. Regardons ce qu'il se passe si nous extrapolons les valeurs futures de la consommation d'ER:

# %%
n = 30 # number of predicting years
future_years = pd.DataFrame(index=[i for i in range(2022,2022+n)], data={'Year_2': [i**2 for i in range(58,58+n)]})
predictions = results_2.predict(future_years)


plt.figure(figsize=(12,5))
plt.title('Prédiction de la consommation d\'énergie renouvelable en France entre 1965 et 2021')
plt.plot(df['All_renew'], label='Consommation en TWh')
plt.plot(df['Prediction_2'], label='Modèle quadratique - in sample')
plt.plot(predictions, label='Modèle quadratique - out sample')
plt.legend(loc='best')
plt.show()

# %% [markdown]
# Ce que l'on peut observer rapidemment, c'est que notre modèle devient vite stupide. Il a identifié une tendance quadratique dans les données et ne prendra que cette dernière en compte pour prédire. Cela marchera peut-être pour des prédictions à court terme, mais le modèle deviendra obsolète pour les prédictions sur plusieurs dizaines d'années.
#
# Il est important de réfléchir aux limites de nos modèles!

# %% [markdown]
# # Soyez créatif avec vos modèles!

# %% [markdown]
# Nous avons commencé notre modélisation avec un modèle particulièrement simple. Mais rien vous empêche de complexifier votre approche.
#
# On pourrait tout à fait considérer un modèle dans lequel la consommation d'ER dépends de la population du pays, mais aussi de la consommation d'ER l'année précédente et du GDP per capita du pays. On aurait alors un DAG de la forme suivante:
#
# ![image.png](attachment:886516b7-f74d-468b-b035-b1c63e14e6af.png)
#
# **Il faut toutefois considérer certaines choses lors de la construction de modèle plus complexes.**
#
# 1. Est-que la complexité supplémentaire est nécessaire pour expliquer ma variable d'intérêt?
#
# ![image.png](attachment:3056557b-6b26-4380-9395-1ceaddf24a65.png)
#
# Le modèle ci-dessus est plus complexe que notre modèle linéaire simple mais n'est pas particulièrement logique en soi. Les mathématiques ne remplacent pas une construction logique et cohérente de nos modèles!
#
# 2. Existe-t-il des liens de causalité cachés entre mes variables explicatives?
#
# ![image.png](attachment:467cf803-54fd-41ce-9ace-484b782f0672.png)
#
# Dans le modèle au-dessus, nous modélisons la consommation d'ER comme fonction du temps, de la population d'un pays et de la consommation d'EF dans ce pays. Néanmoins, il existe des liens de causalité implicites dans ce modèle (lignes discontinues). Le niveau démographique a forcément un impact sur la consommation d'ER mais aussi celle d'EF. Et la population et consommation d'EF suivent des tendences.
#
# Le résultat est celui présenté ci-dessous, où l'on obtient en modèle avec des coefficients non significatifs pour la majorité. Ceci se produit à cause des liens de causalité implicites dans le modèle!
#
# C'est ici que le raisonnement en termes de DAG est utile. Il nous permets de réfléchir a priori à notre modèle et nos hypothèses de départ.
#

# %%
model_3 = sm.OLS.from_formula('All_renew ~ Year + GDP_per_cap + Coal', data=df)
results_3 = model_3.fit()

# %%
results_3.summary()

# %%



